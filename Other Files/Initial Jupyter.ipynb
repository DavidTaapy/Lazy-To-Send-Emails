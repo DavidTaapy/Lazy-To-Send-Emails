{
 "cells": [
  {
   "cell_type": "code",
   "execution_count": 1,
   "metadata": {},
   "outputs": [],
   "source": [
    "# Importing required libraries\n",
    "import smtplib\n",
    "import ssl\n",
    "from email.mime.multipart import MIMEMultipart\n",
    "from email.mime.text import MIMEText\n",
    "from email.mime.image import MIMEImage\n",
    "import pandas"
   ]
  },
  {
   "cell_type": "code",
   "execution_count": 2,
   "metadata": {},
   "outputs": [
    {
     "name": "stdout",
     "output_type": "stream",
     "text": [
      "Type your email address and press enter: davidtayangpeng@gmail.com\n",
      "Type your password and press enter: darrenad\n"
     ]
    }
   ],
   "source": [
    "# Setting up smtp and sender credentials\n",
    "smtp_server = \"smtp.gmail.com\"\n",
    "port = 587  # For starttls\n",
    "sender_email = input('Type your email address and press enter: ')\n",
    "password = input('Type your password and press enter: ')"
   ]
  },
  {
   "cell_type": "code",
   "execution_count": 3,
   "metadata": {},
   "outputs": [],
   "source": [
    "# Reading the recipient information\n",
    "recipient_info = pandas.read_csv(\"recipients.csv\")"
   ]
  },
  {
   "cell_type": "code",
   "execution_count": 4,
   "metadata": {},
   "outputs": [],
   "source": [
    "# Create a secure SSL context\n",
    "context = ssl.create_default_context()"
   ]
  },
  {
   "cell_type": "code",
   "execution_count": 5,
   "metadata": {},
   "outputs": [],
   "source": [
    "# Message Template\n",
    "msg = \"\"\"\\\n",
    "    <html>\n",
    "        <head></head>\n",
    "        <body>\n",
    "        <p style=\"font-size: 11pt; font-family: Calibri, sans-serif;\">Dear {recipient_name},\n",
    "        <br><br>\n",
    "        Greetings from Lazy Land!\n",
    "        <br><br>\n",
    "        I’m David from Lazy Land and I’m writing to enquire about the film, \\\n",
    "        <span style=\"font-family: Cambria;font-size: 15px; font-weight: 700; background: rgb(255, 192, 0);\">{film_name}({film_year})</span>, \\\n",
    "        directed by {director_name}.\n",
    "        <br><br>\n",
    "        I love watching films and my favourite film festival can be found at \\\n",
    "        <a href=\"https://www.perspectivesfilmfestival.com/\">www.perspectivesfilmfestival.com</a>.\n",
    "        <br><br>\n",
    "        Due to the COVID-19 pandemic, their festival will be completely virtual this year. They will be working closely with local \\\n",
    "        exhibitors with Hollywood studio-grade level digital rights management (DRM) service that ensures playback only occurs \\\n",
    "        on an authenticated video player, geolocation locking, and is MPAA (Motion Pictures Association of America) compliant, \\\n",
    "        along with other security features to ensure content, payment, and privacy are secured.\n",
    "        <br>\n",
    "        </p>\n",
    "        <p style=\"font-size:11pt; font-family:Calibri, sans-serif; margin-bottom: 0;\">\n",
    "        They have a few queries:\n",
    "        <ul style=\"font-size:11pt; font-family:Calibri, sans-serif; margin-top: 0;\">\n",
    "            <li>This is my first query!</li>\n",
    "            <li>This is my second query!</li>\n",
    "            <li>This is my third query!</li>\n",
    "        </ul>\n",
    "        </p>\n",
    "        <p style=\"font-size: 11pt; font-family: Calibri, sans-serif; margin-bottom: 0\">\n",
    "        For more info about virtual platforms that they will be working with:\n",
    "        <ul style=\"font-size: 11pt; font-family: Calibri, sans-serif; margin-top: 0;\">\n",
    "            <li>P+ by The Projector: <a href=\"https://theprojector.sg/themes/now-on-vod/\"\">https://theprojector.sg/themes/now-on-vod/</a></li>\n",
    "            <li>Kinolounge by Shaw Theatres: <a href=\"https://kinolounge.shaw.sg/\">https://kinolounge.shaw.sg/</a></li>\n",
    "        </ul>\n",
    "        </p>\n",
    "        <p style=\"font-size: 11pt; font-family: Calibri, sans-serif;\">\n",
    "        Thank you for your time and we hope to hear from you soon!\n",
    "        <br><br>\n",
    "        Warm regards,\n",
    "        <br>\n",
    "        <span style=\"font-family: Cambria; font-size: 12pt; font-weight: 700;\">Lazy David</span><br>\n",
    "        <span style=\"font-family: Cambria; font-size: 12pt;\">Programming Executive</span><br><br>\n",
    "        <img style=\"width: 200px; aspect-ratio: auto 200 / 89; height: 89px;\" src=\"cid:image1\"><br>\n",
    "        <span style=\"font-family: Cambria; font-size: 12pt;\">Mobile: +65 12345678</span>\n",
    "        <br>\n",
    "        <a style=\"font-family: Cambria; font-size: 12pt;\" href=\"https://www.perspectivesfilmfestival.com/\">Website</a> | \\\n",
    "        <a style=\"font-family: Cambria; font-size: 12pt;\" href=\"https://www.instagram.com/wkwsci.perspectivesfilmfest/\">Instagram</a> | \\\n",
    "        <a style=\"font-family: Cambria; font-size: 12pt;\" href=\"https://www.facebook.com/wkwsci.perspectivesfilmfest/\">Facebook</a>\n",
    "        <br><br>\n",
    "        <span style=\"color:rgb(59,56,56); font-family: sans-serif; font-size: 6pt;\">\n",
    "        CONFIDENTIALITY NOTICE:\n",
    "        <br>\n",
    "        This e-mail, including any attachment thereto, are intended only for use by the addressee(s) named herein and may contain legally privileged and/or confidential information. If you are not the intended recipient of this e-mail, please delete it immediately and notify the sender. \n",
    "        </span>\n",
    "        </p>\n",
    "    </body>\n",
    "</html>\n",
    "\"\"\""
   ]
  },
  {
   "cell_type": "code",
   "execution_count": 6,
   "metadata": {},
   "outputs": [
    {
     "name": "stdout",
     "output_type": "stream",
     "text": [
      "'float' object has no attribute 'split'\n"
     ]
    }
   ],
   "source": [
    "# Attempt to login and send emails\n",
    "try:\n",
    "    # Setting up the server\n",
    "    server = smtplib.SMTP(smtp_server, port)\n",
    "    server.starttls(context=context)  # Securing the connection\n",
    "    server.login(sender_email, password)\n",
    "\n",
    "    # Read signature image\n",
    "    fp = open('./logo.png', 'rb')\n",
    "    msgImage = MIMEImage(fp.read())\n",
    "    fp.close()\n",
    "\n",
    "    # Sending email for each movie\n",
    "    for index, row in recipient_info.iterrows():\n",
    "        # Root message\n",
    "        msgRoot = MIMEMultipart('related')\n",
    "        msgRoot['Subject'] = \"Enquiry on {film_name}({film_year}) for Perspectives Film Festival 2021\".format(\n",
    "            film_name=row[\"Title\"], film_year=row['Year'])\n",
    "\n",
    "        # Assigning sender email\n",
    "        msgRoot['From'] = sender_email\n",
    "\n",
    "        # Assigning recipients to 'To'\n",
    "        msgRoot['To'] = row[\"Email\"]\n",
    "#         msgRoot['To'] = \"\"\n",
    "#         recipients = row[\"Email\"].split(\",\")\n",
    "#         for recipient in recipients:\n",
    "#             msgRoot['To'] += recipient\n",
    "\n",
    "        # Handling CC\n",
    "        if isinstance(row[\"CC\"], str): # If there are people to CC\n",
    "            msgRoot['Cc'] = row[\"CC\"]\n",
    "#             cc = row[\"CC\"].split(',')\n",
    "#             msgRoot['Cc'] = \"\"\n",
    "#             for person in cc:\n",
    "#                 msgRoot[\"Cc\"] += person\n",
    "\n",
    "        # Adding body to root message\n",
    "        msgAlternative = MIMEMultipart('alternative')\n",
    "        msgRoot.attach(msgAlternative)\n",
    "        msgHere = msg.format(\n",
    "            film_name=row[\"Title\"], director_name=row[\"Director\"], recipient_name=row[\"Distributor Name\"], film_year=row[\"Year\"])\n",
    "        msgText = MIMEText(msgHere, 'html')\n",
    "        msgAlternative.attach(msgText)\n",
    "\n",
    "        # Define the image's ID as referenced above\n",
    "        msgImage.add_header('Content-ID', '<image1>')\n",
    "        msgRoot.attach(msgImage)\n",
    "\n",
    "        # Sending to recipients\n",
    "        toSend = list(row[\"Email\"].split(\",\"))\n",
    "        if isinstance(row[\"CC\"], str):  # If CC exists\n",
    "            toSend += list(row[\"CC\"].split(\",\"))\n",
    "        server.sendmail(sender_email, toSend, msgRoot.as_string())\n",
    "except Exception as e:\n",
    "    print(e)\n",
    "finally:\n",
    "    server.quit()"
   ]
  }
 ],
 "metadata": {
  "interpreter": {
   "hash": "b74379f84d7abf481b8ca701507731bd42b1feea4fa8cfcb1a28eec2267c6830"
  },
  "kernelspec": {
   "display_name": "Python 3",
   "language": "python",
   "name": "python3"
  },
  "language_info": {
   "codemirror_mode": {
    "name": "ipython",
    "version": 3
   },
   "file_extension": ".py",
   "mimetype": "text/x-python",
   "name": "python",
   "nbconvert_exporter": "python",
   "pygments_lexer": "ipython3",
   "version": "3.8.5"
  }
 },
 "nbformat": 4,
 "nbformat_minor": 4
}
